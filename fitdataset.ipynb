{
 "cells": [
  {
   "cell_type": "markdown",
   "metadata": {},
   "source": [
    "# Training tensor networks to approximate the distribution given by a dataset\n",
    "Simple notebook demonstrating how to train a tensor network to learn the distribution of a dataset."
   ]
  },
  {
   "cell_type": "markdown",
   "metadata": {},
   "source": [
    "First import the dependencies and a tensor network model."
   ]
  },
  {
   "cell_type": "code",
   "execution_count": 14,
   "metadata": {},
   "outputs": [],
   "source": [
    "import numpy as np\n",
    "import pickle\n",
    "from tensornetworks.PositiveMPS import PositiveMPS\n",
    "from tensornetworks.RealBorn import RealBorn\n",
    "from tensornetworks.ComplexBorn import ComplexBorn\n",
    "from tensornetworks.RealLPS import RealLPS\n",
    "from tensornetworks.ComplexLPS import ComplexLPS"
   ]
  },
  {
   "cell_type": "markdown",
   "metadata": {},
   "source": [
    "Now load a dataset. A dataset needs to be an integer numpy array, with each row corresponding to a training example and each column to a categorical variable taking values in 0 to d-1."
   ]
  },
  {
   "cell_type": "code",
   "execution_count": 15,
   "metadata": {},
   "outputs": [],
   "source": [
    "with open('datasets/lymphography', 'rb') as f:\n",
    "        a=pickle.load(f)\n",
    "X=a[0]\n",
    "X=X.astype(int)"
   ]
  },
  {
   "cell_type": "markdown",
   "metadata": {},
   "source": [
    "Create a tensor network model (here we use a real Born machine) with bond dimension 2. Specify a learning rate, size of batch and number of epochs of training. Use 'verbose=True' to print the details during training."
   ]
  },
  {
   "cell_type": "code",
   "execution_count": 16,
   "metadata": {},
   "outputs": [],
   "source": [
    "mps = RealBorn(D=2, learning_rate=0.2, batch_size=20, n_iter=30, verbose=True) "
   ]
  },
  {
   "cell_type": "markdown",
   "metadata": {},
   "source": [
    "Fit the model to the data"
   ]
  },
  {
   "cell_type": "code",
   "execution_count": 17,
   "metadata": {},
   "outputs": [
    {
     "name": "stdout",
     "output_type": "stream",
     "text": [
      "Iteration 1, likelihood = 28.107, time = 0.06s\n",
      "Iteration 2, likelihood = 21.949, time = 0.05s\n",
      "Iteration 3, likelihood = 20.652, time = 0.04s\n",
      "Iteration 4, likelihood = 19.159, time = 0.04s\n",
      "Iteration 5, likelihood = 18.276, time = 0.04s\n",
      "Iteration 6, likelihood = 17.726, time = 0.04s\n",
      "Iteration 7, likelihood = 17.300, time = 0.05s\n",
      "Iteration 8, likelihood = 16.919, time = 0.04s\n",
      "Iteration 9, likelihood = 16.738, time = 0.04s\n",
      "Iteration 10, likelihood = 16.641, time = 0.04s\n",
      "Iteration 11, likelihood = 16.464, time = 0.04s\n",
      "Iteration 12, likelihood = 16.260, time = 0.08s\n",
      "Iteration 13, likelihood = 16.205, time = 0.05s\n",
      "Iteration 14, likelihood = 15.955, time = 0.04s\n",
      "Iteration 15, likelihood = 15.842, time = 0.04s\n",
      "Iteration 16, likelihood = 15.756, time = 0.04s\n",
      "Iteration 17, likelihood = 15.684, time = 0.06s\n",
      "Iteration 18, likelihood = 15.650, time = 0.05s\n",
      "Iteration 19, likelihood = 15.579, time = 0.04s\n",
      "Iteration 20, likelihood = 15.533, time = 0.04s\n",
      "Iteration 21, likelihood = 15.485, time = 0.06s\n",
      "Iteration 22, likelihood = 15.455, time = 0.08s\n",
      "Iteration 23, likelihood = 15.435, time = 0.04s\n",
      "Iteration 24, likelihood = 15.372, time = 0.04s\n",
      "Iteration 25, likelihood = 15.333, time = 0.04s\n",
      "Iteration 26, likelihood = 15.328, time = 0.05s\n",
      "Iteration 27, likelihood = 15.304, time = 0.05s\n",
      "Iteration 28, likelihood = 15.308, time = 0.04s\n",
      "Iteration 29, likelihood = 15.287, time = 0.04s\n",
      "Iteration 30, likelihood = 15.270, time = 0.04s\n"
     ]
    },
    {
     "data": {
      "text/plain": [
       "<tensornetworks.RealBorn.RealBorn at 0x119469690>"
      ]
     },
     "execution_count": 17,
     "metadata": {},
     "output_type": "execute_result"
    }
   ],
   "source": [
    "mps.fit(X)"
   ]
  },
  {
   "cell_type": "markdown",
   "metadata": {},
   "source": [
    "Finally evaluate the negative log-likelihood of the fitted model."
   ]
  },
  {
   "cell_type": "code",
   "execution_count": 18,
   "metadata": {},
   "outputs": [
    {
     "data": {
      "text/plain": [
       "15.269918922577897"
      ]
     },
     "execution_count": 18,
     "metadata": {},
     "output_type": "execute_result"
    }
   ],
   "source": [
    "mps.likelihood(X)"
   ]
  },
  {
   "cell_type": "markdown",
   "metadata": {},
   "source": [
    "Now create a tensor network model which is a complex LPS with bond dimension 2 and purification dimension of 2."
   ]
  },
  {
   "cell_type": "code",
   "execution_count": 22,
   "metadata": {},
   "outputs": [],
   "source": [
    "mps2 = ComplexLPS(D=3, learning_rate=0.5, batch_size=20, n_iter=100, verbose=True, mu=2) "
   ]
  },
  {
   "cell_type": "markdown",
   "metadata": {},
   "source": [
    "Fit the model to the data"
   ]
  },
  {
   "cell_type": "code",
   "execution_count": 23,
   "metadata": {},
   "outputs": [
    {
     "name": "stdout",
     "output_type": "stream",
     "text": [
      "Iteration 1, likelihood = 33.156, time = 0.09s\n",
      "Iteration 2, likelihood = 28.707, time = 0.11s\n",
      "Iteration 3, likelihood = 25.675, time = 0.13s\n",
      "Iteration 4, likelihood = 23.657, time = 0.15s\n",
      "Iteration 5, likelihood = 22.118, time = 0.12s\n",
      "Iteration 6, likelihood = 20.898, time = 0.12s\n",
      "Iteration 7, likelihood = 19.984, time = 0.11s\n",
      "Iteration 8, likelihood = 19.266, time = 0.13s\n",
      "Iteration 9, likelihood = 18.701, time = 0.14s\n",
      "Iteration 10, likelihood = 18.193, time = 0.14s\n",
      "Iteration 11, likelihood = 17.818, time = 0.12s\n",
      "Iteration 12, likelihood = 17.501, time = 0.14s\n",
      "Iteration 13, likelihood = 17.292, time = 0.12s\n",
      "Iteration 14, likelihood = 17.009, time = 0.13s\n",
      "Iteration 15, likelihood = 16.802, time = 0.12s\n",
      "Iteration 16, likelihood = 16.639, time = 0.13s\n",
      "Iteration 17, likelihood = 16.488, time = 0.11s\n",
      "Iteration 18, likelihood = 16.354, time = 0.13s\n",
      "Iteration 19, likelihood = 16.242, time = 0.11s\n",
      "Iteration 20, likelihood = 16.135, time = 0.13s\n",
      "Iteration 21, likelihood = 16.036, time = 0.12s\n",
      "Iteration 22, likelihood = 15.943, time = 0.14s\n",
      "Iteration 23, likelihood = 15.853, time = 0.14s\n",
      "Iteration 24, likelihood = 15.778, time = 0.21s\n",
      "Iteration 25, likelihood = 15.724, time = 0.13s\n",
      "Iteration 26, likelihood = 15.666, time = 0.12s\n",
      "Iteration 27, likelihood = 15.621, time = 0.12s\n",
      "Iteration 28, likelihood = 15.590, time = 0.14s\n",
      "Iteration 29, likelihood = 15.549, time = 0.12s\n",
      "Iteration 30, likelihood = 15.490, time = 0.14s\n",
      "Iteration 31, likelihood = 15.450, time = 0.11s\n",
      "Iteration 32, likelihood = 15.436, time = 0.14s\n",
      "Iteration 33, likelihood = 15.398, time = 0.11s\n",
      "Iteration 34, likelihood = 15.362, time = 0.14s\n",
      "Iteration 35, likelihood = 15.345, time = 0.14s\n",
      "Iteration 36, likelihood = 15.324, time = 0.15s\n",
      "Iteration 37, likelihood = 15.306, time = 0.13s\n",
      "Iteration 38, likelihood = 15.302, time = 0.13s\n",
      "Iteration 39, likelihood = 15.257, time = 0.12s\n",
      "Iteration 40, likelihood = 15.227, time = 0.17s\n",
      "Iteration 41, likelihood = 15.198, time = 0.19s\n",
      "Iteration 42, likelihood = 15.203, time = 0.12s\n",
      "Iteration 43, likelihood = 15.169, time = 0.17s\n",
      "Iteration 44, likelihood = 15.119, time = 0.18s\n",
      "Iteration 45, likelihood = 15.100, time = 0.16s\n",
      "Iteration 46, likelihood = 15.070, time = 0.14s\n",
      "Iteration 47, likelihood = 15.048, time = 0.13s\n",
      "Iteration 48, likelihood = 15.034, time = 0.14s\n",
      "Iteration 49, likelihood = 15.027, time = 0.15s\n",
      "Iteration 50, likelihood = 14.986, time = 0.12s\n",
      "Iteration 51, likelihood = 14.963, time = 0.12s\n",
      "Iteration 52, likelihood = 14.947, time = 0.14s\n",
      "Iteration 53, likelihood = 14.938, time = 0.12s\n",
      "Iteration 54, likelihood = 14.933, time = 0.14s\n",
      "Iteration 55, likelihood = 14.925, time = 0.11s\n",
      "Iteration 56, likelihood = 14.898, time = 0.14s\n",
      "Iteration 57, likelihood = 14.908, time = 0.12s\n",
      "Iteration 58, likelihood = 14.894, time = 0.13s\n",
      "Iteration 59, likelihood = 14.896, time = 0.12s\n",
      "Iteration 60, likelihood = 14.911, time = 0.14s\n",
      "Iteration 61, likelihood = 14.900, time = 0.12s\n",
      "Iteration 62, likelihood = 14.862, time = 0.14s\n",
      "Iteration 63, likelihood = 14.821, time = 0.11s\n",
      "Iteration 64, likelihood = 14.815, time = 0.13s\n",
      "Iteration 65, likelihood = 14.802, time = 0.11s\n",
      "Iteration 66, likelihood = 14.805, time = 0.14s\n",
      "Iteration 67, likelihood = 14.798, time = 0.16s\n",
      "Iteration 68, likelihood = 14.777, time = 0.18s\n",
      "Iteration 69, likelihood = 14.754, time = 0.14s\n",
      "Iteration 70, likelihood = 14.741, time = 0.15s\n",
      "Iteration 71, likelihood = 14.715, time = 0.12s\n",
      "Iteration 72, likelihood = 14.715, time = 0.14s\n",
      "Iteration 73, likelihood = 14.727, time = 0.11s\n",
      "Iteration 74, likelihood = 14.688, time = 0.13s\n",
      "Iteration 75, likelihood = 14.671, time = 0.12s\n",
      "Iteration 76, likelihood = 14.665, time = 0.13s\n",
      "Iteration 77, likelihood = 14.639, time = 0.12s\n",
      "Iteration 78, likelihood = 14.626, time = 0.13s\n",
      "Iteration 79, likelihood = 14.627, time = 0.12s\n",
      "Iteration 80, likelihood = 14.622, time = 0.14s\n",
      "Iteration 81, likelihood = 14.628, time = 0.12s\n",
      "Iteration 82, likelihood = 14.634, time = 0.13s\n",
      "Iteration 83, likelihood = 14.608, time = 0.12s\n",
      "Iteration 84, likelihood = 14.600, time = 0.15s\n",
      "Iteration 85, likelihood = 14.608, time = 0.12s\n",
      "Iteration 86, likelihood = 14.567, time = 0.14s\n",
      "Iteration 87, likelihood = 14.556, time = 0.16s\n",
      "Iteration 88, likelihood = 14.535, time = 0.17s\n",
      "Iteration 89, likelihood = 14.527, time = 0.14s\n",
      "Iteration 90, likelihood = 14.529, time = 0.15s\n",
      "Iteration 91, likelihood = 14.535, time = 0.17s\n",
      "Iteration 92, likelihood = 14.527, time = 0.12s\n",
      "Iteration 93, likelihood = 14.498, time = 0.12s\n",
      "Iteration 94, likelihood = 14.483, time = 0.14s\n",
      "Iteration 95, likelihood = 14.473, time = 0.12s\n",
      "Iteration 96, likelihood = 14.479, time = 0.23s\n",
      "Iteration 97, likelihood = 14.482, time = 0.13s\n",
      "Iteration 98, likelihood = 14.465, time = 0.12s\n",
      "Iteration 99, likelihood = 14.450, time = 0.11s\n",
      "Iteration 100, likelihood = 14.455, time = 0.13s\n"
     ]
    },
    {
     "data": {
      "text/plain": [
       "<tensornetworks.ComplexLPS.ComplexLPS at 0x119476b90>"
      ]
     },
     "execution_count": 23,
     "metadata": {},
     "output_type": "execute_result"
    }
   ],
   "source": [
    "mps2.fit(X)"
   ]
  },
  {
   "cell_type": "markdown",
   "metadata": {},
   "source": [
    "Finally evaluate the negative log-likelihood of the fitted model."
   ]
  },
  {
   "cell_type": "code",
   "execution_count": 24,
   "metadata": {},
   "outputs": [
    {
     "data": {
      "text/plain": [
       "14.454638807049255"
      ]
     },
     "execution_count": 24,
     "metadata": {},
     "output_type": "execute_result"
    }
   ],
   "source": [
    "mps2.likelihood(X)"
   ]
  },
  {
   "cell_type": "code",
   "execution_count": null,
   "metadata": {},
   "outputs": [],
   "source": []
  }
 ],
 "metadata": {
  "anaconda-cloud": {},
  "celltoolbar": "Raw Cell Format",
  "kernelspec": {
   "display_name": "Python 3",
   "language": "python",
   "name": "python3"
  },
  "language_info": {
   "codemirror_mode": {
    "name": "ipython",
    "version": 3
   },
   "file_extension": ".py",
   "mimetype": "text/x-python",
   "name": "python",
   "nbconvert_exporter": "python",
   "pygments_lexer": "ipython3",
   "version": "3.7.5"
  }
 },
 "nbformat": 4,
 "nbformat_minor": 2
}
