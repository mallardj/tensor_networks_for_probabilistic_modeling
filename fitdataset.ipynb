{
 "cells": [
  {
   "cell_type": "markdown",
   "metadata": {},
   "source": [
    "# Training tensor networks to approximate the distribution given by a dataset\n",
    "Simple notebook demonstrating how to train a tensor network to learn the distribution of a dataset."
   ]
  },
  {
   "cell_type": "markdown",
   "metadata": {},
   "source": [
    "First import the dependencies and a tensor network model."
   ]
  },
  {
   "cell_type": "code",
   "execution_count": 1,
   "metadata": {},
   "outputs": [],
   "source": [
    "import numpy as np\n",
    "import pickle\n",
    "from tensornetworks.PositiveMPS import PositiveMPS\n",
    "from tensornetworks.RealBorn import RealBorn\n",
    "from tensornetworks.ComplexBorn import ComplexBorn\n",
    "from tensornetworks.RealLPS import RealLPS\n",
    "from tensornetworks.ComplexLPS import ComplexLPS"
   ]
  },
  {
   "cell_type": "markdown",
   "metadata": {},
   "source": [
    "Now load a dataset. A dataset needs to be an integer numpy array, with each row corresponding to a training example and each column to a categorical variable taking values in 0 to d-1."
   ]
  },
  {
   "cell_type": "code",
   "execution_count": 2,
   "metadata": {},
   "outputs": [],
   "source": [
    "with open('datasets/tumor', 'rb') as f:\n",
    "        a=pickle.load(f)\n",
    "X=a[0]\n",
    "X=X.astype(int)"
   ]
  },
  {
   "cell_type": "markdown",
   "metadata": {},
   "source": [
    "Create a tensor network model (here we use a real Born machine) with bond dimension 2. Specify a learning rate, size of batch and number of epochs of training. Use 'verbose=True' to print the details during training."
   ]
  },
  {
   "cell_type": "code",
   "execution_count": 3,
   "metadata": {},
   "outputs": [],
   "source": [
    "mps = RealBorn(D=2, learning_rate=0.2, batch_size=20, n_iter=30, verbose=True) "
   ]
  },
  {
   "cell_type": "markdown",
   "metadata": {},
   "source": [
    "Fit the model to the data"
   ]
  },
  {
   "cell_type": "code",
   "execution_count": 6,
   "metadata": {},
   "outputs": [
    {
     "name": "stdout",
     "output_type": "stream",
     "text": [
      "Iteration 1, likelihood = 13.829, time = 0.11s\n",
      "Iteration 2, likelihood = 16.042, time = 0.13s\n",
      "Iteration 3, likelihood = 15.158, time = 0.10s\n",
      "Iteration 4, likelihood = 14.327, time = 0.12s\n",
      "Iteration 5, likelihood = 13.853, time = 0.11s\n",
      "Iteration 6, likelihood = 18.941, time = 0.15s\n",
      "Iteration 7, likelihood = 16.273, time = 0.10s\n",
      "Iteration 8, likelihood = 15.217, time = 0.12s\n",
      "Iteration 9, likelihood = 14.463, time = 0.13s\n",
      "Iteration 10, likelihood = 13.942, time = 0.20s\n",
      "Iteration 11, likelihood = 13.389, time = 0.13s\n",
      "Iteration 12, likelihood = 13.189, time = 0.09s\n",
      "Iteration 13, likelihood = 12.536, time = 0.09s\n",
      "Iteration 14, likelihood = 12.035, time = 0.13s\n",
      "Iteration 15, likelihood = 11.687, time = 0.13s\n",
      "Iteration 16, likelihood = 11.559, time = 0.16s\n",
      "Iteration 17, likelihood = 11.370, time = 0.24s\n",
      "Iteration 18, likelihood = 11.213, time = 0.16s\n",
      "Iteration 19, likelihood = 11.143, time = 0.12s\n",
      "Iteration 20, likelihood = 11.435, time = 0.20s\n",
      "Iteration 21, likelihood = 11.171, time = 0.17s\n",
      "Iteration 22, likelihood = 11.031, time = 0.09s\n",
      "Iteration 23, likelihood = 10.909, time = 0.11s\n",
      "Iteration 24, likelihood = 10.766, time = 0.20s\n",
      "Iteration 25, likelihood = 10.644, time = 0.15s\n",
      "Iteration 26, likelihood = 10.658, time = 0.12s\n",
      "Iteration 27, likelihood = 10.549, time = 0.44s\n",
      "Iteration 28, likelihood = 10.511, time = 0.15s\n",
      "Iteration 29, likelihood = 10.514, time = 0.25s\n",
      "Iteration 30, likelihood = 12.777, time = 0.13s\n"
     ]
    }
   ],
   "source": [
    "mps=mps.fit(X)"
   ]
  },
  {
   "cell_type": "markdown",
   "metadata": {},
   "source": [
    "Finally evaluate the negative log-likelihood of the fitted model."
   ]
  },
  {
   "cell_type": "code",
   "execution_count": 7,
   "metadata": {},
   "outputs": [
    {
     "data": {
      "text/plain": [
       "12.777383158218496"
      ]
     },
     "execution_count": 7,
     "metadata": {},
     "output_type": "execute_result"
    }
   ],
   "source": [
    "mps.likelihood(X)"
   ]
  },
  {
   "cell_type": "markdown",
   "metadata": {},
   "source": [
    "Now create a tensor network model which is a complex LPS with bond dimension 2 and purification dimension of 2."
   ]
  },
  {
   "cell_type": "code",
   "execution_count": 8,
   "metadata": {},
   "outputs": [],
   "source": [
    "mps2 = ComplexLPS(D=3, learning_rate=0.5, batch_size=20, n_iter=100, verbose=True, mu=2) "
   ]
  },
  {
   "cell_type": "markdown",
   "metadata": {},
   "source": [
    "Fit the model to the data"
   ]
  },
  {
   "cell_type": "code",
   "execution_count": 9,
   "metadata": {},
   "outputs": [
    {
     "name": "stdout",
     "output_type": "stream",
     "text": [
      "Iteration 1, likelihood = 15.072, time = 0.13s\n",
      "Iteration 2, likelihood = 12.405, time = 0.22s\n",
      "Iteration 3, likelihood = 11.171, time = 0.29s\n",
      "Iteration 4, likelihood = 10.717, time = 0.25s\n",
      "Iteration 5, likelihood = 10.229, time = 0.29s\n",
      "Iteration 6, likelihood = 10.092, time = 0.28s\n",
      "Iteration 7, likelihood = 10.020, time = 0.26s\n",
      "Iteration 8, likelihood = 9.917, time = 0.38s\n",
      "Iteration 9, likelihood = 9.807, time = 0.25s\n",
      "Iteration 10, likelihood = 9.738, time = 0.28s\n",
      "Iteration 11, likelihood = 9.677, time = 0.26s\n",
      "Iteration 12, likelihood = 9.606, time = 0.50s\n",
      "Iteration 13, likelihood = 9.608, time = 0.26s\n",
      "Iteration 14, likelihood = 9.637, time = 0.24s\n",
      "Iteration 15, likelihood = 9.599, time = 0.27s\n",
      "Iteration 16, likelihood = 9.597, time = 0.30s\n",
      "Iteration 17, likelihood = 9.541, time = 0.32s\n",
      "Iteration 18, likelihood = 9.518, time = 0.32s\n",
      "Iteration 19, likelihood = 9.524, time = 0.31s\n",
      "Iteration 20, likelihood = 9.588, time = 0.31s\n",
      "Iteration 21, likelihood = 9.551, time = 0.32s\n",
      "Iteration 22, likelihood = 9.505, time = 0.43s\n",
      "Iteration 23, likelihood = 9.604, time = 0.32s\n",
      "Iteration 24, likelihood = 9.531, time = 0.26s\n",
      "Iteration 25, likelihood = 9.514, time = 0.52s\n",
      "Iteration 26, likelihood = 9.452, time = 0.39s\n",
      "Iteration 27, likelihood = 9.400, time = 0.30s\n",
      "Iteration 28, likelihood = 9.368, time = 0.33s\n",
      "Iteration 29, likelihood = 9.382, time = 0.46s\n",
      "Iteration 30, likelihood = 9.353, time = 0.31s\n",
      "Iteration 31, likelihood = 9.456, time = 0.31s\n",
      "Iteration 32, likelihood = 9.393, time = 0.36s\n",
      "Iteration 33, likelihood = 9.442, time = 0.33s\n",
      "Iteration 34, likelihood = 9.409, time = 0.45s\n",
      "Iteration 35, likelihood = 9.404, time = 0.40s\n",
      "Iteration 36, likelihood = 9.464, time = 0.31s\n",
      "Iteration 37, likelihood = 9.444, time = 0.47s\n",
      "Iteration 38, likelihood = 9.444, time = 0.30s\n",
      "Iteration 39, likelihood = 9.400, time = 0.29s\n",
      "Iteration 40, likelihood = 9.356, time = 0.26s\n",
      "Iteration 41, likelihood = 9.354, time = 0.34s\n",
      "Iteration 42, likelihood = 9.336, time = 0.28s\n",
      "Iteration 43, likelihood = 9.356, time = 0.28s\n",
      "Iteration 44, likelihood = 9.308, time = 0.30s\n",
      "Iteration 45, likelihood = 9.319, time = 0.27s\n",
      "Iteration 46, likelihood = 9.350, time = 0.28s\n",
      "Iteration 47, likelihood = 9.366, time = 0.25s\n",
      "Iteration 48, likelihood = 9.340, time = 0.27s\n",
      "Iteration 49, likelihood = 9.437, time = 0.26s\n",
      "Iteration 50, likelihood = 9.369, time = 0.29s\n",
      "Iteration 51, likelihood = 9.331, time = 0.61s\n",
      "Iteration 52, likelihood = 9.317, time = 0.33s\n",
      "Iteration 53, likelihood = 9.328, time = 0.21s\n",
      "Iteration 54, likelihood = 9.295, time = 0.25s\n",
      "Iteration 55, likelihood = 9.280, time = 0.21s\n",
      "Iteration 56, likelihood = 9.267, time = 0.26s\n",
      "Iteration 57, likelihood = 9.287, time = 0.32s\n",
      "Iteration 58, likelihood = 9.360, time = 0.35s\n",
      "Iteration 59, likelihood = 9.421, time = 0.37s\n",
      "Iteration 60, likelihood = 9.412, time = 0.22s\n",
      "Iteration 61, likelihood = 9.284, time = 0.34s\n",
      "Iteration 62, likelihood = 9.281, time = 0.24s\n",
      "Iteration 63, likelihood = 9.271, time = 0.33s\n",
      "Iteration 64, likelihood = 9.288, time = 0.36s\n",
      "Iteration 65, likelihood = 9.327, time = 0.52s\n",
      "Iteration 66, likelihood = 9.257, time = 0.36s\n",
      "Iteration 67, likelihood = 9.305, time = 0.35s\n",
      "Iteration 68, likelihood = 9.267, time = 0.34s\n",
      "Iteration 69, likelihood = 9.277, time = 0.34s\n",
      "Iteration 70, likelihood = 9.345, time = 0.30s\n",
      "Iteration 71, likelihood = 9.315, time = 0.26s\n",
      "Iteration 72, likelihood = 9.326, time = 0.25s\n",
      "Iteration 73, likelihood = 9.273, time = 0.26s\n",
      "Iteration 74, likelihood = 9.260, time = 0.30s\n",
      "Iteration 75, likelihood = 9.287, time = 0.34s\n",
      "Iteration 76, likelihood = 9.275, time = 0.36s\n",
      "Iteration 77, likelihood = 9.363, time = 0.51s\n",
      "Iteration 78, likelihood = 9.265, time = 0.36s\n",
      "Iteration 79, likelihood = 9.276, time = 0.38s\n",
      "Iteration 80, likelihood = 9.270, time = 0.34s\n",
      "Iteration 81, likelihood = 9.336, time = 0.45s\n",
      "Iteration 82, likelihood = 9.344, time = 0.33s\n",
      "Iteration 83, likelihood = 9.337, time = 0.35s\n",
      "Iteration 84, likelihood = 9.290, time = 0.37s\n",
      "Iteration 85, likelihood = 9.285, time = 0.34s\n",
      "Iteration 86, likelihood = 9.302, time = 0.35s\n",
      "Iteration 87, likelihood = 9.324, time = 0.30s\n",
      "Iteration 88, likelihood = 9.312, time = 0.28s\n",
      "Iteration 89, likelihood = 9.307, time = 0.24s\n",
      "Iteration 90, likelihood = 9.255, time = 0.42s\n",
      "Iteration 91, likelihood = 9.281, time = 0.28s\n",
      "Iteration 92, likelihood = 9.289, time = 0.35s\n",
      "Iteration 93, likelihood = 9.320, time = 0.36s\n",
      "Iteration 94, likelihood = 9.377, time = 0.34s\n",
      "Iteration 95, likelihood = 9.318, time = 0.34s\n",
      "Iteration 96, likelihood = 9.273, time = 0.47s\n",
      "Iteration 97, likelihood = 9.250, time = 0.41s\n",
      "Iteration 98, likelihood = 9.235, time = 0.22s\n",
      "Iteration 99, likelihood = 9.282, time = 0.27s\n",
      "Iteration 100, likelihood = 9.279, time = 0.31s\n"
     ]
    },
    {
     "data": {
      "text/plain": [
       "<tensornetworks.ComplexLPS.ComplexLPS at 0x123c79510>"
      ]
     },
     "execution_count": 9,
     "metadata": {},
     "output_type": "execute_result"
    }
   ],
   "source": [
    "mps2.fit(X)"
   ]
  },
  {
   "cell_type": "markdown",
   "metadata": {},
   "source": [
    "Finally evaluate the negative log-likelihood of the fitted model."
   ]
  },
  {
   "cell_type": "code",
   "execution_count": 10,
   "metadata": {},
   "outputs": [
    {
     "data": {
      "text/plain": [
       "9.279182893087984"
      ]
     },
     "execution_count": 10,
     "metadata": {},
     "output_type": "execute_result"
    }
   ],
   "source": [
    "mps2.likelihood(X)"
   ]
  },
  {
   "cell_type": "markdown",
   "metadata": {},
   "source": []
  },
  {
   "cell_type": "code",
   "execution_count": 11,
   "metadata": {},
   "outputs": [
    {
     "data": {
      "text/plain": [
       "<tensornetworks.ComplexLPS.ComplexLPS at 0x123c79510>"
      ]
     },
     "execution_count": 11,
     "metadata": {},
     "output_type": "execute_result"
    }
   ],
   "source": [
    "mps2"
   ]
  },
  {
   "cell_type": "code",
   "execution_count": 12,
   "metadata": {},
   "outputs": [
    {
     "data": {
      "text/plain": [
       "array([[2, 1, 1, ..., 1, 1, 0],\n",
       "       [2, 1, 1, ..., 1, 1, 0],\n",
       "       [1, 0, 3, ..., 1, 0, 1],\n",
       "       ...,\n",
       "       [2, 0, 1, ..., 1, 1, 0],\n",
       "       [1, 1, 1, ..., 0, 1, 1],\n",
       "       [2, 1, 1, ..., 1, 0, 0]])"
      ]
     },
     "execution_count": 12,
     "metadata": {},
     "output_type": "execute_result"
    }
   ],
   "source": [
    "X"
   ]
  },
  {
   "cell_type": "code",
   "execution_count": null,
   "metadata": {},
   "outputs": [],
   "source": []
  }
 ],
 "metadata": {
  "anaconda-cloud": {},
  "celltoolbar": "Raw Cell Format",
  "kernelspec": {
   "display_name": "Python 3",
   "language": "python",
   "name": "python3"
  },
  "language_info": {
   "codemirror_mode": {
    "name": "ipython",
    "version": 3
   },
   "file_extension": ".py",
   "mimetype": "text/x-python",
   "name": "python",
   "nbconvert_exporter": "python",
   "pygments_lexer": "ipython3",
   "version": "3.7.5"
  }
 },
 "nbformat": 4,
 "nbformat_minor": 2
}
